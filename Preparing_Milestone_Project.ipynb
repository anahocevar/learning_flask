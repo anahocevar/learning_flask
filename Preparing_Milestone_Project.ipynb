{
 "cells": [
  {
   "cell_type": "markdown",
   "metadata": {},
   "source": [
    "## Preparing my Milestone Project"
   ]
  },
  {
   "cell_type": "code",
   "execution_count": 108,
   "metadata": {
    "collapsed": true
   },
   "outputs": [],
   "source": [
    "from datetime import datetime, timedelta\n",
    "import requests\n",
    "import pandas as pd\n",
    "\n",
    "now = datetime.today()\n",
    "today = now.strftime(\"%Y-%m-%d\")\n",
    "then = now - timedelta(days=31)\n",
    "first_day = then.strftime(\"%Y-%m-%d\")\n",
    "this_ticker = 'AAPL'\n",
    "    \n",
    "r = requests.get('https://www.quandl.com/api/v3/datasets/EOD/{0}.json?column_index=4&start_date={1}&end_date={2}&api_key=zRAuGY8-NoKwgZWbTa_a'.format(this_ticker,first_day,today))\n",
    "data = r.json()"
   ]
  },
  {
   "cell_type": "code",
   "execution_count": 109,
   "metadata": {},
   "outputs": [
    {
     "data": {
      "text/html": [
       "<div>\n",
       "<style>\n",
       "    .dataframe thead tr:only-child th {\n",
       "        text-align: right;\n",
       "    }\n",
       "\n",
       "    .dataframe thead th {\n",
       "        text-align: left;\n",
       "    }\n",
       "\n",
       "    .dataframe tbody tr th {\n",
       "        vertical-align: top;\n",
       "    }\n",
       "</style>\n",
       "<table border=\"1\" class=\"dataframe\">\n",
       "  <thead>\n",
       "    <tr style=\"text-align: right;\">\n",
       "      <th></th>\n",
       "      <th>Date</th>\n",
       "      <th>Close</th>\n",
       "    </tr>\n",
       "  </thead>\n",
       "  <tbody>\n",
       "    <tr>\n",
       "      <th>0</th>\n",
       "      <td>2018-03-20</td>\n",
       "      <td>175.24</td>\n",
       "    </tr>\n",
       "    <tr>\n",
       "      <th>1</th>\n",
       "      <td>2018-03-19</td>\n",
       "      <td>175.30</td>\n",
       "    </tr>\n",
       "    <tr>\n",
       "      <th>2</th>\n",
       "      <td>2018-03-16</td>\n",
       "      <td>178.02</td>\n",
       "    </tr>\n",
       "    <tr>\n",
       "      <th>3</th>\n",
       "      <td>2018-03-15</td>\n",
       "      <td>178.65</td>\n",
       "    </tr>\n",
       "    <tr>\n",
       "      <th>4</th>\n",
       "      <td>2018-03-14</td>\n",
       "      <td>178.44</td>\n",
       "    </tr>\n",
       "  </tbody>\n",
       "</table>\n",
       "</div>"
      ],
      "text/plain": [
       "        Date   Close\n",
       "0 2018-03-20  175.24\n",
       "1 2018-03-19  175.30\n",
       "2 2018-03-16  178.02\n",
       "3 2018-03-15  178.65\n",
       "4 2018-03-14  178.44"
      ]
     },
     "execution_count": 109,
     "metadata": {},
     "output_type": "execute_result"
    }
   ],
   "source": [
    "df = pd.DataFrame(data[u'dataset'][u'data'])\n",
    "df.columns = data[u'dataset'][u'column_names']\n",
    "df['Date'] = pd.to_datetime(df['Date'], format='%Y/%m/%d')\n",
    "df.head()"
   ]
  },
  {
   "cell_type": "code",
   "execution_count": 110,
   "metadata": {},
   "outputs": [
    {
     "data": {
      "text/plain": [
       "200"
      ]
     },
     "execution_count": 110,
     "metadata": {},
     "output_type": "execute_result"
    }
   ],
   "source": [
    "r.status_code"
   ]
  },
  {
   "cell_type": "code",
   "execution_count": 119,
   "metadata": {},
   "outputs": [],
   "source": [
    "from bokeh.plotting import figure, show, save\n",
    "from bokeh.io import output_notebook\n",
    "from bokeh.models import ColumnDataSource\n",
    "from bokeh.embed import components\n",
    "from bokeh.resources import CDN\n",
    "\n",
    "source = ColumnDataSource(data=df)\n",
    "\n",
    "# output to static HTML file\n",
    "# output_file(\"graph.html\")\n",
    "\n",
    "# create a new plot with a title and axis labels\n",
    "p = figure(title= this_ticker + \" closing price in the last month\", x_axis_label='Date', y_axis_label='Closing Price', x_axis_type=\"datetime\")\n",
    "\n",
    "# add a line renderer with legend and line thickness\n",
    "# p.line(source = source,x = 'Date', y = 'Close', legend=\"Temp.\", line_width=2)\n",
    "p.line(x = 'Date', y = 'Close', source = source, legend = this_ticker, line_width = 2)\n",
    "\n",
    "# show the results\n",
    "script, div = components(p)\n",
    "\n",
    "text_file = open(\"script.txt\", \"w\")\n",
    "text_file.write(script)\n",
    "text_file.close()\n",
    "text_file = open(\"div.txt\", \"w\")\n",
    "text_file.write(div)\n",
    "text_file.close()\n",
    "\n",
    "\n"
   ]
  },
  {
   "cell_type": "code",
   "execution_count": 118,
   "metadata": {},
   "outputs": [
    {
     "data": {
      "text/plain": [
       "'\\n<script type=\"text/javascript\">\\n    (function() {\\n  var fn = function() {\\n    Bokeh.safely(function() {\\n      var docs_json = {\"d11799d0-def4-4edd-bcb8-d074392b5c31\":{\"roots\":{\"references\":[{\"attributes\":{\"days\":[1,4,7,10,13,16,19,22,25,28]},\"id\":\"bd5b3556-5851-4416-8669-79172d89da24\",\"type\":\"DaysTicker\"},{\"attributes\":{\"months\":[0,6]},\"id\":\"ccf5e5c7-9b1f-4d9d-8c13-f4ad524d6751\",\"type\":\"MonthsTicker\"},{\"attributes\":{},\"id\":\"e2cedac6-3855-4c51-8f0e-a48f0a63ee0b\",\"type\":\"LinearScale\"},{\"attributes\":{\"base\":24,\"mantissas\":[1,2,4,6,8,12],\"max_interval\":43200000.0,\"min_interval\":3600000.0,\"num_minor_ticks\":0},\"id\":\"cb2bf2a3-118c-46c4-b910-6c86bcba4bcb\",\"type\":\"AdaptiveTicker\"},{\"attributes\":{\"axis_label\":\"Date\",\"formatter\":{\"id\":\"79126fb9-3982-4ed2-992b-99b3d5c9f3d1\",\"type\":\"DatetimeTickFormatter\"},\"plot\":{\"id\":\"971f86e7-d56d-40dd-99c5-8e6799b886cb\",\"subtype\":\"Figure\",\"type\":\"Plot\"},\"ticker\":{\"id\":\"cb5969b1-22f3-403f-ae96-0720c70b55b6\",\"type\":\"DatetimeTicker\"}},\"id\":\"1f4f331d-34a6-4fed-89a9-600734f3f581\",\"type\":\"DatetimeAxis\"},{\"attributes\":{\"source\":{\"id\":\"2fdf9837-9b56-4418-9e0f-4323e2feb966\",\"type\":\"ColumnDataSource\"}},\"id\":\"817b6040-d419-4930-995e-cb1b60d64ab8\",\"type\":\"CDSView\"},{\"attributes\":{\"callback\":null},\"id\":\"32d7b8e7-87d1-4ed9-980d-9e4388ed4af8\",\"type\":\"DataRange1d\"},{\"attributes\":{},\"id\":\"0dcd22c5-8a01-42a2-b9df-e4b1099b962e\",\"type\":\"ResetTool\"},{\"attributes\":{\"plot\":{\"id\":\"971f86e7-d56d-40dd-99c5-8e6799b886cb\",\"subtype\":\"Figure\",\"type\":\"Plot\"},\"ticker\":{\"id\":\"cb5969b1-22f3-403f-ae96-0720c70b55b6\",\"type\":\"DatetimeTicker\"}},\"id\":\"8f1f4f09-c6b0-4f98-8e19-0a9f169ac09e\",\"type\":\"Grid\"},{\"attributes\":{},\"id\":\"5fc2397c-e496-408c-a208-372ec73a03fe\",\"type\":\"BasicTicker\"},{\"attributes\":{\"months\":[0,2,4,6,8,10]},\"id\":\"f7a80b60-0d3d-4a56-bd40-a590124e1963\",\"type\":\"MonthsTicker\"},{\"attributes\":{\"line_color\":{\"value\":\"#1f77b4\"},\"line_width\":{\"value\":2},\"x\":{\"field\":\"Date\"},\"y\":{\"field\":\"Close\"}},\"id\":\"caf256dc-057f-4324-b55d-37c70984e500\",\"type\":\"Line\"},{\"attributes\":{\"base\":60,\"mantissas\":[1,2,5,10,15,20,30],\"max_interval\":1800000.0,\"min_interval\":1000.0,\"num_minor_ticks\":0},\"id\":\"b2f233b6-b83f-4bbd-9b2f-b7ad47223aca\",\"type\":\"AdaptiveTicker\"},{\"attributes\":{\"overlay\":{\"id\":\"c77fe296-1d87-4b71-909b-e1d8af4475ec\",\"type\":\"BoxAnnotation\"}},\"id\":\"e0d7d944-771a-4e5f-93c3-b0b23657230c\",\"type\":\"BoxZoomTool\"},{\"attributes\":{},\"id\":\"96538385-9ff9-4665-b774-b37915431161\",\"type\":\"YearsTicker\"},{\"attributes\":{\"num_minor_ticks\":5},\"id\":\"cb5969b1-22f3-403f-ae96-0720c70b55b6\",\"type\":\"DatetimeTicker\"},{\"attributes\":{\"days\":[1,15]},\"id\":\"44acf282-3d29-4e18-81a0-1fe2b205dffc\",\"type\":\"DaysTicker\"},{\"attributes\":{\"bottom_units\":\"screen\",\"fill_alpha\":{\"value\":0.5},\"fill_color\":{\"value\":\"lightgrey\"},\"left_units\":\"screen\",\"level\":\"overlay\",\"line_alpha\":{\"value\":1.0},\"line_color\":{\"value\":\"black\"},\"line_dash\":[4,4],\"line_width\":{\"value\":2},\"plot\":null,\"render_mode\":\"css\",\"right_units\":\"screen\",\"top_units\":\"screen\"},\"id\":\"c77fe296-1d87-4b71-909b-e1d8af4475ec\",\"type\":\"BoxAnnotation\"},{\"attributes\":{\"months\":[0,4,8]},\"id\":\"8fe91880-68e3-4a19-8cbb-de5084dd3569\",\"type\":\"MonthsTicker\"},{\"attributes\":{\"data_source\":{\"id\":\"2fdf9837-9b56-4418-9e0f-4323e2feb966\",\"type\":\"ColumnDataSource\"},\"glyph\":{\"id\":\"caf256dc-057f-4324-b55d-37c70984e500\",\"type\":\"Line\"},\"hover_glyph\":null,\"muted_glyph\":null,\"nonselection_glyph\":{\"id\":\"6b655188-b23b-4fb3-b25d-1c323f4fe7b7\",\"type\":\"Line\"},\"selection_glyph\":null,\"view\":{\"id\":\"817b6040-d419-4930-995e-cb1b60d64ab8\",\"type\":\"CDSView\"}},\"id\":\"5156c2da-4ea6-4243-8fe2-ecd44a6b0e0f\",\"type\":\"GlyphRenderer\"},{\"attributes\":{},\"id\":\"4718324e-f252-4cee-b354-b00202fe9517\",\"type\":\"SaveTool\"},{\"attributes\":{},\"id\":\"79126fb9-3982-4ed2-992b-99b3d5c9f3d1\",\"type\":\"DatetimeTickFormatter\"},{\"attributes\":{\"plot\":null,\"text\":\"AAPL closing price in the last month\"},\"id\":\"070bf72c-329a-44be-a4ef-49c8b7c78abb\",\"type\":\"Title\"},{\"attributes\":{\"callback\":null},\"id\":\"61118f48-a911-4c82-9e39-d73e7fbfef18\",\"type\":\"DataRange1d\"},{\"attributes\":{\"items\":[{\"id\":\"9dc94911-743e-4af4-9e1c-1481e33cc9c7\",\"type\":\"LegendItem\"}],\"plot\":{\"id\":\"971f86e7-d56d-40dd-99c5-8e6799b886cb\",\"subtype\":\"Figure\",\"type\":\"Plot\"}},\"id\":\"dccca901-5a4c-4cba-aadc-8c8e0655a54e\",\"type\":\"Legend\"},{\"attributes\":{\"months\":[0,1,2,3,4,5,6,7,8,9,10,11]},\"id\":\"b29a2807-9f92-4e3b-bae9-ce5755c49331\",\"type\":\"MonthsTicker\"},{\"attributes\":{},\"id\":\"9233c26d-3f1e-4032-aea2-6f70289edce9\",\"type\":\"LinearScale\"},{\"attributes\":{\"line_alpha\":{\"value\":0.1},\"line_color\":{\"value\":\"#1f77b4\"},\"line_width\":{\"value\":2},\"x\":{\"field\":\"Date\"},\"y\":{\"field\":\"Close\"}},\"id\":\"6b655188-b23b-4fb3-b25d-1c323f4fe7b7\",\"type\":\"Line\"},{\"attributes\":{\"days\":[1,2,3,4,5,6,7,8,9,10,11,12,13,14,15,16,17,18,19,20,21,22,23,24,25,26,27,28,29,30,31]},\"id\":\"55dc83ba-1bb8-4566-b0f6-5188a3fac96b\",\"type\":\"DaysTicker\"},{\"attributes\":{},\"id\":\"e34851f8-fdaf-4b72-8133-cb174dfa2dd8\",\"type\":\"PanTool\"},{\"attributes\":{\"days\":[1,8,15,22]},\"id\":\"a487db5c-e37e-4a61-be8d-5a918be5cd4f\",\"type\":\"DaysTicker\"},{\"attributes\":{\"active_drag\":\"auto\",\"active_inspect\":\"auto\",\"active_scroll\":\"auto\",\"active_tap\":\"auto\",\"tools\":[{\"id\":\"e34851f8-fdaf-4b72-8133-cb174dfa2dd8\",\"type\":\"PanTool\"},{\"id\":\"b2626b7d-d1d1-463f-917e-182771d7e1cc\",\"type\":\"WheelZoomTool\"},{\"id\":\"e0d7d944-771a-4e5f-93c3-b0b23657230c\",\"type\":\"BoxZoomTool\"},{\"id\":\"4718324e-f252-4cee-b354-b00202fe9517\",\"type\":\"SaveTool\"},{\"id\":\"0dcd22c5-8a01-42a2-b9df-e4b1099b962e\",\"type\":\"ResetTool\"},{\"id\":\"63d70f5c-de99-4eb6-8d96-e51f89bfe4cd\",\"type\":\"HelpTool\"}]},\"id\":\"1b1e419d-9c69-478b-b5e4-9c75e7195e77\",\"type\":\"Toolbar\"},{\"attributes\":{},\"id\":\"63ef756e-8fef-43e4-81b0-84dfcf729ed3\",\"type\":\"BasicTickFormatter\"},{\"attributes\":{\"axis_label\":\"Closing Price\",\"formatter\":{\"id\":\"63ef756e-8fef-43e4-81b0-84dfcf729ed3\",\"type\":\"BasicTickFormatter\"},\"plot\":{\"id\":\"971f86e7-d56d-40dd-99c5-8e6799b886cb\",\"subtype\":\"Figure\",\"type\":\"Plot\"},\"ticker\":{\"id\":\"5fc2397c-e496-408c-a208-372ec73a03fe\",\"type\":\"BasicTicker\"}},\"id\":\"67f1ce1c-60b1-44ec-afa6-0bfaa2074fcb\",\"type\":\"LinearAxis\"},{\"attributes\":{},\"id\":\"63d70f5c-de99-4eb6-8d96-e51f89bfe4cd\",\"type\":\"HelpTool\"},{\"attributes\":{\"dimension\":1,\"plot\":{\"id\":\"971f86e7-d56d-40dd-99c5-8e6799b886cb\",\"subtype\":\"Figure\",\"type\":\"Plot\"},\"ticker\":{\"id\":\"5fc2397c-e496-408c-a208-372ec73a03fe\",\"type\":\"BasicTicker\"}},\"id\":\"81331218-5fc0-4b2d-bdc9-17cce01a760e\",\"type\":\"Grid\"},{\"attributes\":{\"below\":[{\"id\":\"1f4f331d-34a6-4fed-89a9-600734f3f581\",\"type\":\"DatetimeAxis\"}],\"left\":[{\"id\":\"67f1ce1c-60b1-44ec-afa6-0bfaa2074fcb\",\"type\":\"LinearAxis\"}],\"renderers\":[{\"id\":\"1f4f331d-34a6-4fed-89a9-600734f3f581\",\"type\":\"DatetimeAxis\"},{\"id\":\"8f1f4f09-c6b0-4f98-8e19-0a9f169ac09e\",\"type\":\"Grid\"},{\"id\":\"67f1ce1c-60b1-44ec-afa6-0bfaa2074fcb\",\"type\":\"LinearAxis\"},{\"id\":\"81331218-5fc0-4b2d-bdc9-17cce01a760e\",\"type\":\"Grid\"},{\"id\":\"c77fe296-1d87-4b71-909b-e1d8af4475ec\",\"type\":\"BoxAnnotation\"},{\"id\":\"dccca901-5a4c-4cba-aadc-8c8e0655a54e\",\"type\":\"Legend\"},{\"id\":\"5156c2da-4ea6-4243-8fe2-ecd44a6b0e0f\",\"type\":\"GlyphRenderer\"}],\"title\":{\"id\":\"070bf72c-329a-44be-a4ef-49c8b7c78abb\",\"type\":\"Title\"},\"toolbar\":{\"id\":\"1b1e419d-9c69-478b-b5e4-9c75e7195e77\",\"type\":\"Toolbar\"},\"x_range\":{\"id\":\"61118f48-a911-4c82-9e39-d73e7fbfef18\",\"type\":\"DataRange1d\"},\"x_scale\":{\"id\":\"9233c26d-3f1e-4032-aea2-6f70289edce9\",\"type\":\"LinearScale\"},\"y_range\":{\"id\":\"32d7b8e7-87d1-4ed9-980d-9e4388ed4af8\",\"type\":\"DataRange1d\"},\"y_scale\":{\"id\":\"e2cedac6-3855-4c51-8f0e-a48f0a63ee0b\",\"type\":\"LinearScale\"}},\"id\":\"971f86e7-d56d-40dd-99c5-8e6799b886cb\",\"subtype\":\"Figure\",\"type\":\"Plot\"},{\"attributes\":{\"max_interval\":500.0,\"num_minor_ticks\":0},\"id\":\"d6458bbb-e188-456f-ad13-2d5aa3e9b03d\",\"type\":\"AdaptiveTicker\"},{\"attributes\":{\"callback\":null,\"column_names\":[\"Date\",\"Close\",\"index\"],\"data\":{\"Close\":{\"__ndarray__\":\"SOF6FK7nZUCamZmZmellQHE9CtejQGZAzczMzMxUZkCuR+F6FE5mQNejcD0Kf2ZA16NwPQq3ZkCPwvUoXH9mQK5H4XoUHmZAKVyPwvXgZUA9CtejcBVmQArXo3A9GmZAH4XrUbgGZkAAAAAAAOBlQKRwPQrXQ2ZAFK5H4XpMZkDXo3A9Cl9mQAAAAAAA8GVAAAAAAACQZUAK16NwPWJlQDMzMzMze2VA\",\"dtype\":\"float64\",\"shape\":[21]},\"Date\":{\"__ndarray__\":\"AACASQskdkIAAMDjuCN2QgAAgLLBInZCAADATG8idkIAAADnHCJ2QgAAQIHKIXZCAACAG3ghdkIAAEDqgCB2QgAAgIQuIHZCAADAHtwfdkIAAAC5iR92QgAAQFM3H3ZCAAAAIkAedkIAAEC87R12QgAAgFabHXZCAADA8EgddkIAAACL9hx2QgAAwFn/G3ZCAAAA9KwbdkIAAECOWht2QgAAgCgIG3ZC\",\"dtype\":\"float64\",\"shape\":[21]},\"index\":[0,1,2,3,4,5,6,7,8,9,10,11,12,13,14,15,16,17,18,19,20]}},\"id\":\"2fdf9837-9b56-4418-9e0f-4323e2feb966\",\"type\":\"ColumnDataSource\"},{\"attributes\":{\"label\":{\"value\":\"AAPL\"},\"renderers\":[{\"id\":\"5156c2da-4ea6-4243-8fe2-ecd44a6b0e0f\",\"type\":\"GlyphRenderer\"}]},\"id\":\"9dc94911-743e-4af4-9e1c-1481e33cc9c7\",\"type\":\"LegendItem\"},{\"attributes\":{},\"id\":\"b2626b7d-d1d1-463f-917e-182771d7e1cc\",\"type\":\"WheelZoomTool\"}],\"root_ids\":[\"971f86e7-d56d-40dd-99c5-8e6799b886cb\"]},\"title\":\"Bokeh Application\",\"version\":\"0.12.7\"}};\\n      var render_items = [{\"docid\":\"d11799d0-def4-4edd-bcb8-d074392b5c31\",\"elementid\":\"327ff014-b4af-4b23-a685-90b873289db5\",\"modelid\":\"971f86e7-d56d-40dd-99c5-8e6799b886cb\"}];\\n      \\n      Bokeh.embed.embed_items(docs_json, render_items);\\n    });\\n  };\\n  if (document.readyState != \"loading\") fn();\\n  else document.addEventListener(\"DOMContentLoaded\", fn);\\n})();\\n\\n</script>'"
      ]
     },
     "execution_count": 118,
     "metadata": {},
     "output_type": "execute_result"
    }
   ],
   "source": [
    "script.encode(\"ascii\",\"ignore\")\n"
   ]
  },
  {
   "cell_type": "code",
   "execution_count": null,
   "metadata": {
    "collapsed": true
   },
   "outputs": [],
   "source": []
  }
 ],
 "metadata": {
  "kernelspec": {
   "display_name": "Python 2",
   "language": "python",
   "name": "python2"
  },
  "language_info": {
   "codemirror_mode": {
    "name": "ipython",
    "version": 2
   },
   "file_extension": ".py",
   "mimetype": "text/x-python",
   "name": "python",
   "nbconvert_exporter": "python",
   "pygments_lexer": "ipython2",
   "version": "2.7.13"
  }
 },
 "nbformat": 4,
 "nbformat_minor": 2
}
