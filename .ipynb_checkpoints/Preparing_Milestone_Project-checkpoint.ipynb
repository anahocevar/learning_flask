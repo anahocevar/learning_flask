{
 "cells": [
  {
   "cell_type": "markdown",
   "metadata": {},
   "source": [
    "## Preparing my Milestone Project"
   ]
  },
  {
   "cell_type": "code",
   "execution_count": 70,
   "metadata": {},
   "outputs": [],
   "source": [
    "from datetime import datetime, timedelta\n",
    "import requests\n",
    "import pandas as pd\n",
    "\n",
    "now = datetime.today()\n",
    "today = now.strftime(\"%Y-%m-%d\")\n",
    "then = now - timedelta(days=31)\n",
    "first_day = then.strftime(\"%Y-%m-%d\")\n",
    "this_ticker = 'AAPL'\n",
    "\n",
    "r = requests.get('https://www.quandl.com/api/v3/datasets/EOD/{0}.json?column_index=4&start_date={1}&end_date={2}&api_key=zRAuGY8-NoKwgZWbTa_a'.format(this_ticker,first_day,today))\n",
    "data = r.json()"
   ]
  },
  {
   "cell_type": "code",
   "execution_count": 77,
   "metadata": {},
   "outputs": [
    {
     "data": {
      "text/html": [
       "<div>\n",
       "<style>\n",
       "    .dataframe thead tr:only-child th {\n",
       "        text-align: right;\n",
       "    }\n",
       "\n",
       "    .dataframe thead th {\n",
       "        text-align: left;\n",
       "    }\n",
       "\n",
       "    .dataframe tbody tr th {\n",
       "        vertical-align: top;\n",
       "    }\n",
       "</style>\n",
       "<table border=\"1\" class=\"dataframe\">\n",
       "  <thead>\n",
       "    <tr style=\"text-align: right;\">\n",
       "      <th></th>\n",
       "      <th>Date</th>\n",
       "      <th>Close</th>\n",
       "    </tr>\n",
       "  </thead>\n",
       "  <tbody>\n",
       "    <tr>\n",
       "      <th>0</th>\n",
       "      <td>2018-03-16</td>\n",
       "      <td>178.02</td>\n",
       "    </tr>\n",
       "    <tr>\n",
       "      <th>1</th>\n",
       "      <td>2018-03-15</td>\n",
       "      <td>178.65</td>\n",
       "    </tr>\n",
       "    <tr>\n",
       "      <th>2</th>\n",
       "      <td>2018-03-14</td>\n",
       "      <td>178.44</td>\n",
       "    </tr>\n",
       "    <tr>\n",
       "      <th>3</th>\n",
       "      <td>2018-03-13</td>\n",
       "      <td>179.97</td>\n",
       "    </tr>\n",
       "    <tr>\n",
       "      <th>4</th>\n",
       "      <td>2018-03-12</td>\n",
       "      <td>181.72</td>\n",
       "    </tr>\n",
       "  </tbody>\n",
       "</table>\n",
       "</div>"
      ],
      "text/plain": [
       "        Date   Close\n",
       "0 2018-03-16  178.02\n",
       "1 2018-03-15  178.65\n",
       "2 2018-03-14  178.44\n",
       "3 2018-03-13  179.97\n",
       "4 2018-03-12  181.72"
      ]
     },
     "execution_count": 77,
     "metadata": {},
     "output_type": "execute_result"
    }
   ],
   "source": [
    "df = pd.DataFrame(data[u'dataset'][u'data'])\n",
    "df.columns = data[u'dataset'][u'column_names']\n",
    "df['Date'] = pd.to_datetime(df['Date'], format='%Y/%m/%d')\n",
    "df.head()"
   ]
  },
  {
   "cell_type": "code",
   "execution_count": 55,
   "metadata": {},
   "outputs": [
    {
     "data": {
      "text/plain": [
       "'/home/vagrant/datacourse/flask-framework/lines.html'"
      ]
     },
     "execution_count": 55,
     "metadata": {},
     "output_type": "execute_result"
    }
   ],
   "source": [
    "from bokeh.plotting import figure, show, save\n",
    "from bokeh.io import output_notebook\n",
    "from bokeh.models import ColumnDataSource\n",
    "\n",
    "data = {'x_values': [1, 2, 3, 4, 5],\n",
    "        'y_values': [6, 7, 2, 3, 6]}\n",
    "\n",
    "source = ColumnDataSource(data=df)\n",
    "\n",
    "# output to static HTML file\n",
    "output_file(\"lines.html\")\n",
    "\n",
    "# create a new plot with a title and axis labels\n",
    "p = figure(title=\"simple line example\", x_axis_label='x', y_axis_label='y')\n",
    "\n",
    "# add a line renderer with legend and line thickness\n",
    "# p.line(source = source,x = 'Date', y = 'Close', legend=\"Temp.\", line_width=2)\n",
    "p.circle(x='Date', y='Close', source=source)\n",
    "\n",
    "# show the results\n",
    "save(p)"
   ]
  },
  {
   "cell_type": "code",
   "execution_count": 47,
   "metadata": {},
   "outputs": [
    {
     "data": {
      "text/plain": [
       "0     2018-03-16\n",
       "1     2018-03-15\n",
       "2     2018-03-14\n",
       "3     2018-03-13\n",
       "4     2018-03-12\n",
       "5     2018-03-09\n",
       "6     2018-03-08\n",
       "7     2018-03-07\n",
       "8     2018-03-06\n",
       "9     2018-03-05\n",
       "10    2018-03-02\n",
       "11    2018-03-01\n",
       "12    2018-02-28\n",
       "13    2018-02-27\n",
       "14    2018-02-26\n",
       "15    2018-02-23\n",
       "16    2018-02-22\n",
       "17    2018-02-21\n",
       "18    2018-02-20\n",
       "19    2018-02-16\n",
       "Name: Date, dtype: object"
      ]
     },
     "execution_count": 47,
     "metadata": {},
     "output_type": "execute_result"
    }
   ],
   "source": [
    "df['Date']"
   ]
  },
  {
   "cell_type": "code",
   "execution_count": null,
   "metadata": {
    "collapsed": true
   },
   "outputs": [],
   "source": []
  }
 ],
 "metadata": {
  "kernelspec": {
   "display_name": "Python 2",
   "language": "python",
   "name": "python2"
  },
  "language_info": {
   "codemirror_mode": {
    "name": "ipython",
    "version": 2
   },
   "file_extension": ".py",
   "mimetype": "text/x-python",
   "name": "python",
   "nbconvert_exporter": "python",
   "pygments_lexer": "ipython2",
   "version": "2.7.13"
  }
 },
 "nbformat": 4,
 "nbformat_minor": 2
}
